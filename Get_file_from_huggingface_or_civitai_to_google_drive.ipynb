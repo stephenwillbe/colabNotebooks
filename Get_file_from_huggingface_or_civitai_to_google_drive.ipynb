{
  "nbformat": 4,
  "nbformat_minor": 0,
  "metadata": {
    "colab": {
      "provenance": [],
      "include_colab_link": true
    },
    "kernelspec": {
      "name": "python3",
      "display_name": "Python 3"
    },
    "language_info": {
      "name": "python"
    }
  },
  "cells": [
    {
      "cell_type": "markdown",
      "metadata": {
        "id": "view-in-github",
        "colab_type": "text"
      },
      "source": [
        "<a href=\"https://colab.research.google.com/github/stephenwillbe/colabNotebooks/blob/master/Get_file_from_huggingface_or_civitai_to_google_drive.ipynb\" target=\"_parent\"><img src=\"https://colab.research.google.com/assets/colab-badge.svg\" alt=\"Open In Colab\"/></a>"
      ]
    },
    {
      "cell_type": "markdown",
      "source": [
        "Get file from huggingface or civitai to google drive, by [@avantcontra](https://twitter.com/avantcontra) \n",
        "- Twitter：https://twitter.com/avantcontra\n",
        "- B站（Contra实验编程）：https://space.bilibili.com/309452713\n",
        " \n",
        " "
      ],
      "metadata": {
        "id": "er6f9hDRwI-n"
      }
    },
    {
      "cell_type": "markdown",
      "source": [
        "#### 0.Mount Google Drive"
      ],
      "metadata": {
        "id": "USf5bG82zizW"
      }
    },
    {
      "cell_type": "code",
      "source": [
        "from google.colab import drive\n",
        "drive.mount('/content/drive', force_remount=True)"
      ],
      "metadata": {
        "id": "N2jxPHoszhdq"
      },
      "execution_count": null,
      "outputs": []
    },
    {
      "cell_type": "markdown",
      "source": [
        "# Hugging Face"
      ],
      "metadata": {
        "id": "SFhIEq6pN6aF"
      }
    },
    {
      "cell_type": "markdown",
      "source": [
        "#### 1.Install diffusers lib"
      ],
      "metadata": {
        "id": "SgM_lWyjwoQp"
      }
    },
    {
      "cell_type": "code",
      "source": [
        "!pip install diffusers==0.4.0"
      ],
      "metadata": {
        "id": "SGX93x1ObYdF"
      },
      "execution_count": null,
      "outputs": []
    },
    {
      "cell_type": "markdown",
      "source": [
        "#### 2.Login with token\n",
        "\n",
        "You can get your huggingface token from https://huggingface.co/settings/tokens"
      ],
      "metadata": {
        "id": "Tw-HcXEmwyZK"
      }
    },
    {
      "cell_type": "code",
      "source": [
        "from huggingface_hub import notebook_login\n",
        "notebook_login()"
      ],
      "metadata": {
        "id": "vg6Te3t0bSKb"
      },
      "execution_count": null,
      "outputs": []
    },
    {
      "cell_type": "markdown",
      "source": [
        "#### 3.File path\n",
        "\n",
        "- **GOOGLE_DRIVE_PATH:** where to save the file on Google Drive。 末尾一定要加上\"/\"。如果文件夹不存在，可以提前手动新建。\n",
        "- **REPO_ID:** the repoid of the file on huggingface\n",
        "- **FILE_NAME:** the file name to download"
      ],
      "metadata": {
        "id": "4OMO-WbJxTNa"
      }
    },
    {
      "cell_type": "code",
      "source": [
        "GOOGLE_DRIVE_PATH = \"drive/MyDrive/AI/models/\" #@param {type:\"string\"}\n",
        "REPO_ID = \"runwayml/stable-diffusion-v1-5\" #@param {type:\"string\"}\n",
        "FILE_NAME = \"v1-5-pruned-emaonly.ckpt\" #@param {type:\"string\"}"
      ],
      "metadata": {
        "id": "LdNgGrdWvzSn"
      },
      "execution_count": null,
      "outputs": []
    },
    {
      "cell_type": "markdown",
      "source": [
        "#### 4.Download from HF to Colab"
      ],
      "metadata": {
        "id": "MO9m5FODyJdX"
      }
    },
    {
      "cell_type": "code",
      "source": [
        "from huggingface_hub import hf_hub_download\n",
        "filePath = hf_hub_download(repo_id=REPO_ID, filename=FILE_NAME, cache_dir=\"/content/hfcache\")\n",
        "print(filePath)"
      ],
      "metadata": {
        "id": "sdavGa6zf6cT"
      },
      "execution_count": null,
      "outputs": []
    },
    {
      "cell_type": "markdown",
      "source": [
        "#### 5.Copy it from Colab to Drive"
      ],
      "metadata": {
        "id": "-9hIsn-QyRAs"
      }
    },
    {
      "cell_type": "code",
      "source": [
        "!cp $filePath $GOOGLE_DRIVE_PATH\n",
        "!ls $GOOGLE_DRIVE_PATH "
      ],
      "metadata": {
        "id": "QMj1pFTqv5k3"
      },
      "execution_count": null,
      "outputs": []
    },
    {
      "cell_type": "markdown",
      "source": [
        "# Civitai"
      ],
      "metadata": {
        "id": "0N7T91auORMR"
      }
    },
    {
      "cell_type": "markdown",
      "source": [
        "#### 1.File path\n",
        "\n",
        "- **GOOGLE_DRIVE_PATH:** where to save the file on Google Drive\n",
        "- **FILE_URL:** the file url on civitai"
      ],
      "metadata": {
        "id": "8U70I-M7OlDV"
      }
    },
    {
      "cell_type": "code",
      "source": [
        "GOOGLE_DRIVE_PATH = \"drive/MyDrive/AI/models\" #@param {type:\"string\"}\n",
        "FILE_URL = \"https://civitai.com/api/download/models/6987\" #@param {type:\"string\"}"
      ],
      "metadata": {
        "id": "UjBDD7cuO4Kc"
      },
      "execution_count": null,
      "outputs": []
    },
    {
      "cell_type": "markdown",
      "source": [
        "#### 2.Download from Civitai to Colab"
      ],
      "metadata": {
        "id": "BBcVt3B-Pu2_"
      }
    },
    {
      "cell_type": "code",
      "source": [
        "cache_dir_civitai=\"/content/civitai_models\"\n",
        "!wget -P $cache_dir_civitai --content-disposition $FILE_URL"
      ],
      "metadata": {
        "id": "_itdrCDcP0Gg"
      },
      "execution_count": null,
      "outputs": []
    },
    {
      "cell_type": "markdown",
      "source": [
        "#### 3.Copy it from Colab to Drive"
      ],
      "metadata": {
        "id": "vTkH0Ce1R-jU"
      }
    },
    {
      "cell_type": "code",
      "source": [
        "!cp -ri $cache_dir_civitai $GOOGLE_DRIVE_PATH\n",
        "!ls $GOOGLE_DRIVE_PATH "
      ],
      "metadata": {
        "id": "21IUOeyYSFSi"
      },
      "execution_count": null,
      "outputs": []
    }
  ]
}